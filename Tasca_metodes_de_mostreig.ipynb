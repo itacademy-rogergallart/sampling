{
  "nbformat": 4,
  "nbformat_minor": 0,
  "metadata": {
    "colab": {
      "name": "Tasca_metodes_de_mostreig.ipynb",
      "provenance": [],
      "collapsed_sections": [],
      "toc_visible": true,
      "authorship_tag": "ABX9TyNQP74+SjOxnQ8U8g4h3Gof"
    },
    "kernelspec": {
      "name": "python3",
      "display_name": "Python 3"
    },
    "language_info": {
      "name": "python"
    }
  },
  "cells": [
    {
      "cell_type": "markdown",
      "metadata": {
        "id": "Fgiyjk8ybHEV"
      },
      "source": [
        "# Tasca mètodes de mostreig"
      ]
    },
    {
      "cell_type": "markdown",
      "metadata": {
        "id": "raf54wYNbgT0"
      },
      "source": [
        "Roger Gallart - 13 maig 2021"
      ]
    },
    {
      "cell_type": "markdown",
      "metadata": {
        "id": "RUcllr7HbG-J"
      },
      "source": [
        "## Nivell 1\n",
        "### Exercici 1\n",
        "Agafa un conjunt de dades de tema esportiu que t'agradi. Realitza un mostreig de les dades generant una mostra aleatòria simple i una mostra sistemàtica."
      ]
    },
    {
      "cell_type": "code",
      "metadata": {
        "id": "bLiMYjQQwUjY"
      },
      "source": [
        "import pandas as pd\n",
        "import numpy as np\n",
        "import random\n",
        "import matplotlib.pyplot as plt\n",
        "from sklearn.model_selection import train_test_split\n",
        "import seaborn as sns\n",
        "%matplotlib inline"
      ],
      "execution_count": 1,
      "outputs": []
    },
    {
      "cell_type": "code",
      "metadata": {
        "colab": {
          "base_uri": "https://localhost:8080/",
          "height": 204
        },
        "id": "ularJxPLwl77",
        "outputId": "10de898f-7910-4183-c13c-782ccc353f1e"
      },
      "source": [
        "# Dataset resultats de la Liga de futbol 1995-2020\n",
        "# Source: https://www.kaggle.com/kishan305/la-liga-results-19952020?select=LaLiga_Matches_1995-2020.csv\n",
        "\n",
        "# Columns include Season, HomeTeam, AwayTeam, FTHG (Full-time home goals), \n",
        "# FTAG (Full time away goals), FTR (Full-time result), HTHG (Half time home goals), \n",
        "# HTAG (Half time away goals) & HTR (half time result).\n",
        "\n",
        "df = pd.read_csv('https://raw.githubusercontent.com/itacademy-rogergallart/sampling/main/LaLiga_Matches_1995-2020.csv',\n",
        "                 dtype={'HTHG':'Int64','HTAG':'Int64'})\n",
        "df.head()\n",
        "\n",
        "# HTHG i HTAG són variables enteres però algunes files tenen missing values. A l'importar, pandas\n",
        "# per defecte ho converteix a Float64 i els valors mancants a np.nan\n",
        "# Forcem el tipus a 'Int64' (Amb la I majúscula) que permet tenir una columna amb\n",
        "# valors enters i missing values en format pandas.NA (enlloc de np.nan)\n",
        "# Doc: https://pandas.pydata.org/pandas-docs/stable/user_guide/integer_na.html"
      ],
      "execution_count": 2,
      "outputs": [
        {
          "output_type": "execute_result",
          "data": {
            "text/html": [
              "<div>\n",
              "<style scoped>\n",
              "    .dataframe tbody tr th:only-of-type {\n",
              "        vertical-align: middle;\n",
              "    }\n",
              "\n",
              "    .dataframe tbody tr th {\n",
              "        vertical-align: top;\n",
              "    }\n",
              "\n",
              "    .dataframe thead th {\n",
              "        text-align: right;\n",
              "    }\n",
              "</style>\n",
              "<table border=\"1\" class=\"dataframe\">\n",
              "  <thead>\n",
              "    <tr style=\"text-align: right;\">\n",
              "      <th></th>\n",
              "      <th>Season</th>\n",
              "      <th>Date</th>\n",
              "      <th>HomeTeam</th>\n",
              "      <th>AwayTeam</th>\n",
              "      <th>FTHG</th>\n",
              "      <th>FTAG</th>\n",
              "      <th>FTR</th>\n",
              "      <th>HTHG</th>\n",
              "      <th>HTAG</th>\n",
              "      <th>HTR</th>\n",
              "    </tr>\n",
              "  </thead>\n",
              "  <tbody>\n",
              "    <tr>\n",
              "      <th>0</th>\n",
              "      <td>1995-96</td>\n",
              "      <td>2/9/1995</td>\n",
              "      <td>La Coruna</td>\n",
              "      <td>Valencia</td>\n",
              "      <td>3</td>\n",
              "      <td>0</td>\n",
              "      <td>H</td>\n",
              "      <td>2</td>\n",
              "      <td>0</td>\n",
              "      <td>H</td>\n",
              "    </tr>\n",
              "    <tr>\n",
              "      <th>1</th>\n",
              "      <td>1995-96</td>\n",
              "      <td>2/9/1995</td>\n",
              "      <td>Sp Gijon</td>\n",
              "      <td>Albacete</td>\n",
              "      <td>3</td>\n",
              "      <td>0</td>\n",
              "      <td>H</td>\n",
              "      <td>3</td>\n",
              "      <td>0</td>\n",
              "      <td>H</td>\n",
              "    </tr>\n",
              "    <tr>\n",
              "      <th>2</th>\n",
              "      <td>1995-96</td>\n",
              "      <td>3/9/1995</td>\n",
              "      <td>Ath Bilbao</td>\n",
              "      <td>Santander</td>\n",
              "      <td>4</td>\n",
              "      <td>0</td>\n",
              "      <td>H</td>\n",
              "      <td>2</td>\n",
              "      <td>0</td>\n",
              "      <td>H</td>\n",
              "    </tr>\n",
              "    <tr>\n",
              "      <th>3</th>\n",
              "      <td>1995-96</td>\n",
              "      <td>3/9/1995</td>\n",
              "      <td>Ath Madrid</td>\n",
              "      <td>Sociedad</td>\n",
              "      <td>4</td>\n",
              "      <td>1</td>\n",
              "      <td>H</td>\n",
              "      <td>1</td>\n",
              "      <td>1</td>\n",
              "      <td>D</td>\n",
              "    </tr>\n",
              "    <tr>\n",
              "      <th>4</th>\n",
              "      <td>1995-96</td>\n",
              "      <td>3/9/1995</td>\n",
              "      <td>Celta</td>\n",
              "      <td>Compostela</td>\n",
              "      <td>0</td>\n",
              "      <td>1</td>\n",
              "      <td>A</td>\n",
              "      <td>0</td>\n",
              "      <td>0</td>\n",
              "      <td>D</td>\n",
              "    </tr>\n",
              "  </tbody>\n",
              "</table>\n",
              "</div>"
            ],
            "text/plain": [
              "    Season      Date    HomeTeam    AwayTeam  FTHG  FTAG FTR  HTHG  HTAG HTR\n",
              "0  1995-96  2/9/1995   La Coruna    Valencia     3     0   H     2     0   H\n",
              "1  1995-96  2/9/1995    Sp Gijon    Albacete     3     0   H     3     0   H\n",
              "2  1995-96  3/9/1995  Ath Bilbao   Santander     4     0   H     2     0   H\n",
              "3  1995-96  3/9/1995  Ath Madrid    Sociedad     4     1   H     1     1   D\n",
              "4  1995-96  3/9/1995       Celta  Compostela     0     1   A     0     0   D"
            ]
          },
          "metadata": {
            "tags": []
          },
          "execution_count": 2
        }
      ]
    },
    {
      "cell_type": "code",
      "metadata": {
        "colab": {
          "base_uri": "https://localhost:8080/",
          "height": 204
        },
        "id": "WcZAWEHcXw55",
        "outputId": "b7b8eac9-6327-4f3c-f29d-701ce1abe8bc"
      },
      "source": [
        "# A la lliga de futbol española hi ha un gran desequilibri en els pressupostos\n",
        "# cosa que pot influir els resultats. Afegim una columna booleana que indica si un \n",
        "# dels 2 equips que han jugat el partit pertany al TOP5 d'equips amb més pressupost.\n",
        "# Aquests equips són: Barça, RMadrid, Ath.Madrid, Sevilla i València\n",
        "\n",
        "df['Top5Budget'] = (df.HomeTeam.str.contains(\"Barcelona|Real Madrid|Ath Madrid|Sevilla|Valencia\"))\n",
        "\n",
        "df.head()"
      ],
      "execution_count": 3,
      "outputs": [
        {
          "output_type": "execute_result",
          "data": {
            "text/html": [
              "<div>\n",
              "<style scoped>\n",
              "    .dataframe tbody tr th:only-of-type {\n",
              "        vertical-align: middle;\n",
              "    }\n",
              "\n",
              "    .dataframe tbody tr th {\n",
              "        vertical-align: top;\n",
              "    }\n",
              "\n",
              "    .dataframe thead th {\n",
              "        text-align: right;\n",
              "    }\n",
              "</style>\n",
              "<table border=\"1\" class=\"dataframe\">\n",
              "  <thead>\n",
              "    <tr style=\"text-align: right;\">\n",
              "      <th></th>\n",
              "      <th>Season</th>\n",
              "      <th>Date</th>\n",
              "      <th>HomeTeam</th>\n",
              "      <th>AwayTeam</th>\n",
              "      <th>FTHG</th>\n",
              "      <th>FTAG</th>\n",
              "      <th>FTR</th>\n",
              "      <th>HTHG</th>\n",
              "      <th>HTAG</th>\n",
              "      <th>HTR</th>\n",
              "      <th>Top5Budget</th>\n",
              "    </tr>\n",
              "  </thead>\n",
              "  <tbody>\n",
              "    <tr>\n",
              "      <th>0</th>\n",
              "      <td>1995-96</td>\n",
              "      <td>2/9/1995</td>\n",
              "      <td>La Coruna</td>\n",
              "      <td>Valencia</td>\n",
              "      <td>3</td>\n",
              "      <td>0</td>\n",
              "      <td>H</td>\n",
              "      <td>2</td>\n",
              "      <td>0</td>\n",
              "      <td>H</td>\n",
              "      <td>False</td>\n",
              "    </tr>\n",
              "    <tr>\n",
              "      <th>1</th>\n",
              "      <td>1995-96</td>\n",
              "      <td>2/9/1995</td>\n",
              "      <td>Sp Gijon</td>\n",
              "      <td>Albacete</td>\n",
              "      <td>3</td>\n",
              "      <td>0</td>\n",
              "      <td>H</td>\n",
              "      <td>3</td>\n",
              "      <td>0</td>\n",
              "      <td>H</td>\n",
              "      <td>False</td>\n",
              "    </tr>\n",
              "    <tr>\n",
              "      <th>2</th>\n",
              "      <td>1995-96</td>\n",
              "      <td>3/9/1995</td>\n",
              "      <td>Ath Bilbao</td>\n",
              "      <td>Santander</td>\n",
              "      <td>4</td>\n",
              "      <td>0</td>\n",
              "      <td>H</td>\n",
              "      <td>2</td>\n",
              "      <td>0</td>\n",
              "      <td>H</td>\n",
              "      <td>False</td>\n",
              "    </tr>\n",
              "    <tr>\n",
              "      <th>3</th>\n",
              "      <td>1995-96</td>\n",
              "      <td>3/9/1995</td>\n",
              "      <td>Ath Madrid</td>\n",
              "      <td>Sociedad</td>\n",
              "      <td>4</td>\n",
              "      <td>1</td>\n",
              "      <td>H</td>\n",
              "      <td>1</td>\n",
              "      <td>1</td>\n",
              "      <td>D</td>\n",
              "      <td>True</td>\n",
              "    </tr>\n",
              "    <tr>\n",
              "      <th>4</th>\n",
              "      <td>1995-96</td>\n",
              "      <td>3/9/1995</td>\n",
              "      <td>Celta</td>\n",
              "      <td>Compostela</td>\n",
              "      <td>0</td>\n",
              "      <td>1</td>\n",
              "      <td>A</td>\n",
              "      <td>0</td>\n",
              "      <td>0</td>\n",
              "      <td>D</td>\n",
              "      <td>False</td>\n",
              "    </tr>\n",
              "  </tbody>\n",
              "</table>\n",
              "</div>"
            ],
            "text/plain": [
              "    Season      Date    HomeTeam    AwayTeam  ...  HTHG  HTAG HTR  Top5Budget\n",
              "0  1995-96  2/9/1995   La Coruna    Valencia  ...     2     0   H       False\n",
              "1  1995-96  2/9/1995    Sp Gijon    Albacete  ...     3     0   H       False\n",
              "2  1995-96  3/9/1995  Ath Bilbao   Santander  ...     2     0   H       False\n",
              "3  1995-96  3/9/1995  Ath Madrid    Sociedad  ...     1     1   D        True\n",
              "4  1995-96  3/9/1995       Celta  Compostela  ...     0     0   D       False\n",
              "\n",
              "[5 rows x 11 columns]"
            ]
          },
          "metadata": {
            "tags": []
          },
          "execution_count": 3
        }
      ]
    },
    {
      "cell_type": "code",
      "metadata": {
        "colab": {
          "base_uri": "https://localhost:8080/"
        },
        "id": "us2QIyhiw-gF",
        "outputId": "9a0162f0-92e3-4de4-8438-c664935fc304"
      },
      "source": [
        "df.info()"
      ],
      "execution_count": 4,
      "outputs": [
        {
          "output_type": "stream",
          "text": [
            "<class 'pandas.core.frame.DataFrame'>\n",
            "RangeIndex: 9664 entries, 0 to 9663\n",
            "Data columns (total 11 columns):\n",
            " #   Column      Non-Null Count  Dtype \n",
            "---  ------      --------------  ----- \n",
            " 0   Season      9664 non-null   object\n",
            " 1   Date        9664 non-null   object\n",
            " 2   HomeTeam    9664 non-null   object\n",
            " 3   AwayTeam    9664 non-null   object\n",
            " 4   FTHG        9664 non-null   int64 \n",
            " 5   FTAG        9664 non-null   int64 \n",
            " 6   FTR         9664 non-null   object\n",
            " 7   HTHG        9662 non-null   Int64 \n",
            " 8   HTAG        9662 non-null   Int64 \n",
            " 9   HTR         9662 non-null   object\n",
            " 10  Top5Budget  9664 non-null   bool  \n",
            "dtypes: Int64(2), bool(1), int64(2), object(6)\n",
            "memory usage: 783.4+ KB\n"
          ],
          "name": "stdout"
        }
      ]
    },
    {
      "cell_type": "code",
      "metadata": {
        "id": "aTaPYOeNz-iD"
      },
      "source": [
        "df.to_csv('laliga1995-2000.csv')"
      ],
      "execution_count": 5,
      "outputs": []
    },
    {
      "cell_type": "code",
      "metadata": {
        "colab": {
          "base_uri": "https://localhost:8080/"
        },
        "id": "P_c1Kbp_192z",
        "outputId": "7f5590e3-6ecc-4d13-ef28-e18a3be4e572"
      },
      "source": [
        "# Tamany de la població\n",
        "N = df.shape[0]\n",
        "N"
      ],
      "execution_count": 6,
      "outputs": [
        {
          "output_type": "execute_result",
          "data": {
            "text/plain": [
              "9664"
            ]
          },
          "metadata": {
            "tags": []
          },
          "execution_count": 6
        }
      ]
    },
    {
      "cell_type": "code",
      "metadata": {
        "id": "SGPtE7eR4ylK"
      },
      "source": [
        "# Tamany de la mostra (sampling size)\n",
        "# Per N=9664, IC=95%, Marg=5% --> minim 370 mostres\n",
        "n = 370"
      ],
      "execution_count": 7,
      "outputs": []
    },
    {
      "cell_type": "markdown",
      "metadata": {
        "id": "4WIiAXqR3gjm"
      },
      "source": [
        "#### Mostra Aleatòria Simple (SRS)"
      ]
    },
    {
      "cell_type": "code",
      "metadata": {
        "colab": {
          "base_uri": "https://localhost:8080/",
          "height": 495
        },
        "id": "pX5HtHgi32cz",
        "outputId": "6fae2cec-4352-4557-d246-8eec2ea712cd"
      },
      "source": [
        "# Mostra aleatòria simple (Simple Random Sampling)\n",
        "df_srs = df.sample(n)\n",
        "\n",
        "\n",
        "# Resultat:\n",
        "display(df_srs.head())\n",
        "\n",
        "# Pintem un gràfic per veure visualment quines files s'han agafat per la mostra\n",
        "# Eix horitzontal = Files del DataFrame. En vermell les files mostrejades \n",
        "plt.figure(figsize=(20, 6), dpi=80)\n",
        "plt.vlines(df_srs.index.to_list(), 0, 1, color='red')\n",
        "plt.xlim(0, len(df));\n",
        "plt.title('Items picked from the DataFrame using Simple Random Sampling (in red)');\n",
        "plt.xlabel('Items (rows)');\n",
        "plt.yticks([]);\n"
      ],
      "execution_count": 8,
      "outputs": [
        {
          "output_type": "display_data",
          "data": {
            "text/html": [
              "<div>\n",
              "<style scoped>\n",
              "    .dataframe tbody tr th:only-of-type {\n",
              "        vertical-align: middle;\n",
              "    }\n",
              "\n",
              "    .dataframe tbody tr th {\n",
              "        vertical-align: top;\n",
              "    }\n",
              "\n",
              "    .dataframe thead th {\n",
              "        text-align: right;\n",
              "    }\n",
              "</style>\n",
              "<table border=\"1\" class=\"dataframe\">\n",
              "  <thead>\n",
              "    <tr style=\"text-align: right;\">\n",
              "      <th></th>\n",
              "      <th>Season</th>\n",
              "      <th>Date</th>\n",
              "      <th>HomeTeam</th>\n",
              "      <th>AwayTeam</th>\n",
              "      <th>FTHG</th>\n",
              "      <th>FTAG</th>\n",
              "      <th>FTR</th>\n",
              "      <th>HTHG</th>\n",
              "      <th>HTAG</th>\n",
              "      <th>HTR</th>\n",
              "      <th>Top5Budget</th>\n",
              "    </tr>\n",
              "  </thead>\n",
              "  <tbody>\n",
              "    <tr>\n",
              "      <th>2597</th>\n",
              "      <td>2001-02</td>\n",
              "      <td>9/12/2001</td>\n",
              "      <td>La Coruna</td>\n",
              "      <td>Valencia</td>\n",
              "      <td>1</td>\n",
              "      <td>0</td>\n",
              "      <td>H</td>\n",
              "      <td>0</td>\n",
              "      <td>0</td>\n",
              "      <td>D</td>\n",
              "      <td>False</td>\n",
              "    </tr>\n",
              "    <tr>\n",
              "      <th>4810</th>\n",
              "      <td>2007-08</td>\n",
              "      <td>28/10/07</td>\n",
              "      <td>Santander</td>\n",
              "      <td>Getafe</td>\n",
              "      <td>2</td>\n",
              "      <td>0</td>\n",
              "      <td>H</td>\n",
              "      <td>1</td>\n",
              "      <td>0</td>\n",
              "      <td>H</td>\n",
              "      <td>False</td>\n",
              "    </tr>\n",
              "    <tr>\n",
              "      <th>5336</th>\n",
              "      <td>2008-09</td>\n",
              "      <td>21/02/09</td>\n",
              "      <td>Sevilla</td>\n",
              "      <td>Ath Madrid</td>\n",
              "      <td>1</td>\n",
              "      <td>0</td>\n",
              "      <td>H</td>\n",
              "      <td>0</td>\n",
              "      <td>0</td>\n",
              "      <td>D</td>\n",
              "      <td>True</td>\n",
              "    </tr>\n",
              "    <tr>\n",
              "      <th>2083</th>\n",
              "      <td>2000-01</td>\n",
              "      <td>17/09/2000</td>\n",
              "      <td>Vallecano</td>\n",
              "      <td>Zaragoza</td>\n",
              "      <td>0</td>\n",
              "      <td>0</td>\n",
              "      <td>D</td>\n",
              "      <td>0</td>\n",
              "      <td>0</td>\n",
              "      <td>D</td>\n",
              "      <td>False</td>\n",
              "    </tr>\n",
              "    <tr>\n",
              "      <th>7850</th>\n",
              "      <td>2015-16</td>\n",
              "      <td>25/10/15</td>\n",
              "      <td>Barcelona</td>\n",
              "      <td>Eibar</td>\n",
              "      <td>3</td>\n",
              "      <td>1</td>\n",
              "      <td>H</td>\n",
              "      <td>1</td>\n",
              "      <td>1</td>\n",
              "      <td>D</td>\n",
              "      <td>True</td>\n",
              "    </tr>\n",
              "  </tbody>\n",
              "</table>\n",
              "</div>"
            ],
            "text/plain": [
              "       Season        Date   HomeTeam    AwayTeam  ...  HTHG  HTAG HTR  Top5Budget\n",
              "2597  2001-02   9/12/2001  La Coruna    Valencia  ...     0     0   D       False\n",
              "4810  2007-08    28/10/07  Santander      Getafe  ...     1     0   H       False\n",
              "5336  2008-09    21/02/09    Sevilla  Ath Madrid  ...     0     0   D        True\n",
              "2083  2000-01  17/09/2000  Vallecano    Zaragoza  ...     0     0   D       False\n",
              "7850  2015-16    25/10/15  Barcelona       Eibar  ...     1     1   D        True\n",
              "\n",
              "[5 rows x 11 columns]"
            ]
          },
          "metadata": {
            "tags": []
          }
        },
        {
          "output_type": "display_data",
          "data": {
            "image/png": "[encoded data removed]",
            "text/plain": [
              "<Figure size 1600x480 with 1 Axes>"
            ]
          },
          "metadata": {
            "tags": [],
            "needs_background": "light"
          }
        }
      ]
    },
    {
      "cell_type": "markdown",
      "metadata": {
        "id": "hSzJUNpv4MSi"
      },
      "source": [
        "#### Mostra Sistemàtica (SS)"
      ]
    },
    {
      "cell_type": "markdown",
      "metadata": {
        "id": "xX8qmCFemoeo"
      },
      "source": [
        "We first calculate the sampling interval by dividing the total number of households in the population (40) by the number we want in the sample (10). In this case, the sampling is 4. We then select a number between 1 and the sampling interval from the random number table (in this case 3). Household #3 is the first household. We then count down the list starting with household #3 and select each 4th household. For example, the second selected household is 3 + 4, or #7. Note that when you reach the end of the list, you should have selected your desired number of households. If you have not, you have counted wrong or miscalculated the sampling interval. You should go back and start over."
      ]
    },
    {
      "cell_type": "code",
      "metadata": {
        "id": "4wyuroba4RZK",
        "colab": {
          "base_uri": "https://localhost:8080/",
          "height": 546
        },
        "outputId": "d8968b4b-6be4-4769-808b-f568b8a98f4d"
      },
      "source": [
        "# Mostra Sistemàtica (Systematic Sampling)\n",
        "sampling_interval = int(len(df)/n)\n",
        "start = random.randint(0,sampling_interval)\n",
        "indexes = range(start, sampling_interval*n, sampling_interval)\n",
        "df_ss = df.iloc[indexes]\n",
        "\n",
        "# Resultat:\n",
        "display(df_ss.head())\n",
        "\n",
        "print(f'First sample (random item in sampling interval): {start}')\n",
        "print(f'Step size (=sampling interval): {sampling_interval}')\n",
        "print(f'Sample size (n): {len(df_ss)}')\n",
        "\n",
        "plt.figure(figsize=(20, 6), dpi=80)\n",
        "plt.vlines(df_ss.index.to_list(), 0, 1, color='red')\n",
        "plt.xlim(0, len(df));\n",
        "plt.title('Items picked from the DataFrame using Systematic Sampling (in red)');\n",
        "plt.xlabel('Items (rows)');\n",
        "plt.yticks([]);"
      ],
      "execution_count": 9,
      "outputs": [
        {
          "output_type": "display_data",
          "data": {
            "text/html": [
              "<div>\n",
              "<style scoped>\n",
              "    .dataframe tbody tr th:only-of-type {\n",
              "        vertical-align: middle;\n",
              "    }\n",
              "\n",
              "    .dataframe tbody tr th {\n",
              "        vertical-align: top;\n",
              "    }\n",
              "\n",
              "    .dataframe thead th {\n",
              "        text-align: right;\n",
              "    }\n",
              "</style>\n",
              "<table border=\"1\" class=\"dataframe\">\n",
              "  <thead>\n",
              "    <tr style=\"text-align: right;\">\n",
              "      <th></th>\n",
              "      <th>Season</th>\n",
              "      <th>Date</th>\n",
              "      <th>HomeTeam</th>\n",
              "      <th>AwayTeam</th>\n",
              "      <th>FTHG</th>\n",
              "      <th>FTAG</th>\n",
              "      <th>FTR</th>\n",
              "      <th>HTHG</th>\n",
              "      <th>HTAG</th>\n",
              "      <th>HTR</th>\n",
              "      <th>Top5Budget</th>\n",
              "    </tr>\n",
              "  </thead>\n",
              "  <tbody>\n",
              "    <tr>\n",
              "      <th>10</th>\n",
              "      <td>1995-96</td>\n",
              "      <td>3/9/1995</td>\n",
              "      <td>Zaragoza</td>\n",
              "      <td>Oviedo</td>\n",
              "      <td>1</td>\n",
              "      <td>0</td>\n",
              "      <td>H</td>\n",
              "      <td>1</td>\n",
              "      <td>0</td>\n",
              "      <td>H</td>\n",
              "      <td>False</td>\n",
              "    </tr>\n",
              "    <tr>\n",
              "      <th>36</th>\n",
              "      <td>1995-96</td>\n",
              "      <td>24/09/1995</td>\n",
              "      <td>Albacete</td>\n",
              "      <td>Celta</td>\n",
              "      <td>4</td>\n",
              "      <td>0</td>\n",
              "      <td>H</td>\n",
              "      <td>0</td>\n",
              "      <td>0</td>\n",
              "      <td>D</td>\n",
              "      <td>False</td>\n",
              "    </tr>\n",
              "    <tr>\n",
              "      <th>62</th>\n",
              "      <td>1995-96</td>\n",
              "      <td>4/10/1995</td>\n",
              "      <td>Sp Gijon</td>\n",
              "      <td>Sevilla</td>\n",
              "      <td>3</td>\n",
              "      <td>1</td>\n",
              "      <td>H</td>\n",
              "      <td>1</td>\n",
              "      <td>1</td>\n",
              "      <td>D</td>\n",
              "      <td>False</td>\n",
              "    </tr>\n",
              "    <tr>\n",
              "      <th>88</th>\n",
              "      <td>1995-96</td>\n",
              "      <td>21/10/1995</td>\n",
              "      <td>Valladolid</td>\n",
              "      <td>Ath Madrid</td>\n",
              "      <td>0</td>\n",
              "      <td>1</td>\n",
              "      <td>A</td>\n",
              "      <td>0</td>\n",
              "      <td>0</td>\n",
              "      <td>D</td>\n",
              "      <td>False</td>\n",
              "    </tr>\n",
              "    <tr>\n",
              "      <th>114</th>\n",
              "      <td>1995-96</td>\n",
              "      <td>5/11/1995</td>\n",
              "      <td>La Coruna</td>\n",
              "      <td>Espanol</td>\n",
              "      <td>0</td>\n",
              "      <td>1</td>\n",
              "      <td>A</td>\n",
              "      <td>0</td>\n",
              "      <td>0</td>\n",
              "      <td>D</td>\n",
              "      <td>False</td>\n",
              "    </tr>\n",
              "  </tbody>\n",
              "</table>\n",
              "</div>"
            ],
            "text/plain": [
              "      Season        Date    HomeTeam    AwayTeam  ...  HTHG  HTAG HTR  Top5Budget\n",
              "10   1995-96    3/9/1995    Zaragoza      Oviedo  ...     1     0   H       False\n",
              "36   1995-96  24/09/1995    Albacete       Celta  ...     0     0   D       False\n",
              "62   1995-96   4/10/1995    Sp Gijon     Sevilla  ...     1     1   D       False\n",
              "88   1995-96  21/10/1995  Valladolid  Ath Madrid  ...     0     0   D       False\n",
              "114  1995-96   5/11/1995   La Coruna     Espanol  ...     0     0   D       False\n",
              "\n",
              "[5 rows x 11 columns]"
            ]
          },
          "metadata": {
            "tags": []
          }
        },
        {
          "output_type": "stream",
          "text": [
            "First sample (random item in sampling interval): 10\n",
            "Step size (=sampling interval): 26\n",
            "Sample size (n): 370\n"
          ],
          "name": "stdout"
        },
        {
          "output_type": "display_data",
          "data": {
            "image/png": "[encoded data removed]",
            "text/plain": [
              "<Figure size 1600x480 with 1 Axes>"
            ]
          },
          "metadata": {
            "tags": [],
            "needs_background": "light"
          }
        }
      ]
    },
    {
      "cell_type": "markdown",
      "metadata": {
        "id": "QeTzEw_tbG2v"
      },
      "source": [
        "## Nivell 2\n",
        "### Exercici 2\n",
        "Continua amb el conjunt de dades de tema esportiu i genera una mostra estratificada i una mostra utilitzant SMOTE (Synthetic Minority Oversampling Technique)."
      ]
    },
    {
      "cell_type": "markdown",
      "metadata": {
        "id": "YBxe2XUQ4p57"
      },
      "source": [
        "#### Mostra Estratificada (Stratified Sampling)"
      ]
    },
    {
      "cell_type": "markdown",
      "metadata": {
        "id": "zCd3P3vZu5jD"
      },
      "source": [
        "- **Proportionate Stratified Sampling:** a la mostra cada grup apareix representat en la mateixa proporció que a la població"
      ]
    },
    {
      "cell_type": "code",
      "metadata": {
        "id": "Dcedhz9A45SF",
        "colab": {
          "base_uri": "https://localhost:8080/",
          "height": 475
        },
        "outputId": "7023eb11-7e9b-4d91-c056-50604543a4b4"
      },
      "source": [
        "# Proportionate Stratified Sampling\n",
        "\n",
        "from sklearn.model_selection import train_test_split\n",
        "df_pss, _ = train_test_split(df, stratify=df['Top5Budget'], train_size=n)\n",
        "\n",
        "#Resultat:\n",
        "display(df_pss.head())\n",
        "\n",
        "plt.figure(figsize=(20, 6), dpi=80)\n",
        "plt.vlines(df_pss[df_pss.Top5Budget].index.to_list(), 0, 1, color='red', alpha=1, label=\"Top5Budget=True\")\n",
        "plt.vlines(df_pss[~df_pss.Top5Budget].index.to_list(), 0, 1, color='blue', alpha=0.5, label=\"Top5Budget=False\")\n",
        "plt.xlim(0, len(df));\n",
        "plt.title('Items picked from the DataFrame using Proportionate Stratified Sampling');\n",
        "plt.xlabel('Items (rows)');\n",
        "plt.yticks([]);\n",
        "plt.legend(loc='upper right', bbox_to_anchor=(1.15,1))"
      ],
      "execution_count": 10,
      "outputs": [
        {
          "output_type": "display_data",
          "data": {
            "text/html": [
              "<div>\n",
              "<style scoped>\n",
              "    .dataframe tbody tr th:only-of-type {\n",
              "        vertical-align: middle;\n",
              "    }\n",
              "\n",
              "    .dataframe tbody tr th {\n",
              "        vertical-align: top;\n",
              "    }\n",
              "\n",
              "    .dataframe thead th {\n",
              "        text-align: right;\n",
              "    }\n",
              "</style>\n",
              "<table border=\"1\" class=\"dataframe\">\n",
              "  <thead>\n",
              "    <tr style=\"text-align: right;\">\n",
              "      <th></th>\n",
              "      <th>Season</th>\n",
              "      <th>Date</th>\n",
              "      <th>HomeTeam</th>\n",
              "      <th>AwayTeam</th>\n",
              "      <th>FTHG</th>\n",
              "      <th>FTAG</th>\n",
              "      <th>FTR</th>\n",
              "      <th>HTHG</th>\n",
              "      <th>HTAG</th>\n",
              "      <th>HTR</th>\n",
              "      <th>Top5Budget</th>\n",
              "    </tr>\n",
              "  </thead>\n",
              "  <tbody>\n",
              "    <tr>\n",
              "      <th>4457</th>\n",
              "      <td>2006-07</td>\n",
              "      <td>26/11/06</td>\n",
              "      <td>Betis</td>\n",
              "      <td>Espanol</td>\n",
              "      <td>1</td>\n",
              "      <td>1</td>\n",
              "      <td>D</td>\n",
              "      <td>1</td>\n",
              "      <td>0</td>\n",
              "      <td>H</td>\n",
              "      <td>False</td>\n",
              "    </tr>\n",
              "    <tr>\n",
              "      <th>4761</th>\n",
              "      <td>2007-08</td>\n",
              "      <td>23/09/07</td>\n",
              "      <td>Villarreal</td>\n",
              "      <td>Murcia</td>\n",
              "      <td>2</td>\n",
              "      <td>0</td>\n",
              "      <td>H</td>\n",
              "      <td>0</td>\n",
              "      <td>0</td>\n",
              "      <td>D</td>\n",
              "      <td>False</td>\n",
              "    </tr>\n",
              "    <tr>\n",
              "      <th>9326</th>\n",
              "      <td>2019-20</td>\n",
              "      <td>21/09/2019</td>\n",
              "      <td>Levante</td>\n",
              "      <td>Eibar</td>\n",
              "      <td>0</td>\n",
              "      <td>0</td>\n",
              "      <td>D</td>\n",
              "      <td>0</td>\n",
              "      <td>0</td>\n",
              "      <td>D</td>\n",
              "      <td>False</td>\n",
              "    </tr>\n",
              "    <tr>\n",
              "      <th>5549</th>\n",
              "      <td>2009-10</td>\n",
              "      <td>18/10/09</td>\n",
              "      <td>Malaga</td>\n",
              "      <td>Almeria</td>\n",
              "      <td>1</td>\n",
              "      <td>2</td>\n",
              "      <td>A</td>\n",
              "      <td>0</td>\n",
              "      <td>2</td>\n",
              "      <td>A</td>\n",
              "      <td>False</td>\n",
              "    </tr>\n",
              "    <tr>\n",
              "      <th>163</th>\n",
              "      <td>1995-96</td>\n",
              "      <td>3/12/1995</td>\n",
              "      <td>Valencia</td>\n",
              "      <td>Sociedad</td>\n",
              "      <td>0</td>\n",
              "      <td>1</td>\n",
              "      <td>A</td>\n",
              "      <td>0</td>\n",
              "      <td>0</td>\n",
              "      <td>D</td>\n",
              "      <td>True</td>\n",
              "    </tr>\n",
              "  </tbody>\n",
              "</table>\n",
              "</div>"
            ],
            "text/plain": [
              "       Season        Date    HomeTeam  AwayTeam  ...  HTHG  HTAG HTR  Top5Budget\n",
              "4457  2006-07    26/11/06       Betis   Espanol  ...     1     0   H       False\n",
              "4761  2007-08    23/09/07  Villarreal    Murcia  ...     0     0   D       False\n",
              "9326  2019-20  21/09/2019     Levante     Eibar  ...     0     0   D       False\n",
              "5549  2009-10    18/10/09      Malaga   Almeria  ...     0     2   A       False\n",
              "163   1995-96   3/12/1995    Valencia  Sociedad  ...     0     0   D        True\n",
              "\n",
              "[5 rows x 11 columns]"
            ]
          },
          "metadata": {
            "tags": []
          }
        },
        {
          "output_type": "execute_result",
          "data": {
            "text/plain": [
              "<matplotlib.legend.Legend at 0x7f573127b610>"
            ]
          },
          "metadata": {
            "tags": []
          },
          "execution_count": 10
        },
        {
          "output_type": "display_data",
          "data": {
            "image/png": "[encoded data removed]",
            "text/plain": [
              "<Figure size 1600x480 with 1 Axes>"
            ]
          },
          "metadata": {
            "tags": [],
            "needs_background": "light"
          }
        }
      ]
    },
    {
      "cell_type": "code",
      "metadata": {
        "colab": {
          "base_uri": "https://localhost:8080/"
        },
        "id": "XCUGogNA7VT9",
        "outputId": "cf72c16b-8a55-46a9-c780-19a20e3567d4"
      },
      "source": [
        "# Verificació: verifiquem que les proporcions de cada grup es mantenen\n",
        "\n",
        "print(f'Proporcions de cada grup a la població:')\n",
        "print(df.groupby('Top5Budget').size()/N)\n",
        "\n",
        "print(f'\\nProporcions de cada grup a la mostra:')\n",
        "print(df_pss.groupby('Top5Budget').size()/n)\n",
        "\n",
        "print(f'\\nTamany de mostra per cada grup:')\n",
        "print(df_pss.groupby('Top5Budget').size())\n"
      ],
      "execution_count": 11,
      "outputs": [
        {
          "output_type": "stream",
          "text": [
            "Proporcions de cada grup a la població:\n",
            "Top5Budget\n",
            "False    0.762003\n",
            "True     0.237997\n",
            "dtype: float64\n",
            "\n",
            "Proporcions de cada grup a la mostra:\n",
            "Top5Budget\n",
            "False    0.762162\n",
            "True     0.237838\n",
            "dtype: float64\n",
            "\n",
            "Tamany de mostra per cada grup:\n",
            "Top5Budget\n",
            "False    282\n",
            "True      88\n",
            "dtype: int64\n"
          ],
          "name": "stdout"
        }
      ]
    },
    {
      "cell_type": "markdown",
      "metadata": {
        "id": "XWtvPwEHwdf-"
      },
      "source": [
        "- **Disproportionate Stratified Sampling:** predefinim el tamany de la mostra desitjat per cada grup (no es manté la mateixa proporció que a la població)"
      ]
    },
    {
      "cell_type": "code",
      "metadata": {
        "colab": {
          "base_uri": "https://localhost:8080/",
          "height": 475
        },
        "id": "dOfDiu08aHmd",
        "outputId": "276a6a94-b588-4514-bfbb-f9a8b6538eba"
      },
      "source": [
        "# Disproportionate Stratified Sampling\n",
        "\n",
        "n_top5budget = {False: 200, True: 200} # Nombre de mostres que volem de cada grup (strata)\n",
        "df_dss = df.groupby('Top5Budget', group_keys=False).apply(lambda x: x.sample(n_top5budget[x.name]))\n",
        "\n",
        "# Resultat:\n",
        "display(df_dss.head())\n",
        "\n",
        "plt.figure(figsize=(20, 6), dpi=80)\n",
        "plt.vlines(df_dss[df_dss.Top5Budget].index.to_list(), 0, 1, color='red', alpha=1, label=\"Top5Budget=True\")\n",
        "plt.vlines(df_dss[~df_dss.Top5Budget].index.to_list(), 0, 1, color='blue', alpha=0.4, label=\"Top5Budget=False\")\n",
        "plt.xlim(0, len(df));\n",
        "plt.title('Items picked from the DataFrame using Disproportionate Stratified Sampling');\n",
        "plt.xlabel('Items (rows)');\n",
        "plt.yticks([]);\n",
        "plt.legend(loc='upper right', bbox_to_anchor=(1.15,1))\n"
      ],
      "execution_count": 12,
      "outputs": [
        {
          "output_type": "display_data",
          "data": {
            "text/html": [
              "<div>\n",
              "<style scoped>\n",
              "    .dataframe tbody tr th:only-of-type {\n",
              "        vertical-align: middle;\n",
              "    }\n",
              "\n",
              "    .dataframe tbody tr th {\n",
              "        vertical-align: top;\n",
              "    }\n",
              "\n",
              "    .dataframe thead th {\n",
              "        text-align: right;\n",
              "    }\n",
              "</style>\n",
              "<table border=\"1\" class=\"dataframe\">\n",
              "  <thead>\n",
              "    <tr style=\"text-align: right;\">\n",
              "      <th></th>\n",
              "      <th>Season</th>\n",
              "      <th>Date</th>\n",
              "      <th>HomeTeam</th>\n",
              "      <th>AwayTeam</th>\n",
              "      <th>FTHG</th>\n",
              "      <th>FTAG</th>\n",
              "      <th>FTR</th>\n",
              "      <th>HTHG</th>\n",
              "      <th>HTAG</th>\n",
              "      <th>HTR</th>\n",
              "      <th>Top5Budget</th>\n",
              "    </tr>\n",
              "  </thead>\n",
              "  <tbody>\n",
              "    <tr>\n",
              "      <th>7826</th>\n",
              "      <td>2015-16</td>\n",
              "      <td>3/10/2015</td>\n",
              "      <td>Granada</td>\n",
              "      <td>La Coruna</td>\n",
              "      <td>1</td>\n",
              "      <td>1</td>\n",
              "      <td>D</td>\n",
              "      <td>0</td>\n",
              "      <td>1</td>\n",
              "      <td>A</td>\n",
              "      <td>False</td>\n",
              "    </tr>\n",
              "    <tr>\n",
              "      <th>1703</th>\n",
              "      <td>1999-2000</td>\n",
              "      <td>29/08/1999</td>\n",
              "      <td>Zaragoza</td>\n",
              "      <td>Oviedo</td>\n",
              "      <td>4</td>\n",
              "      <td>0</td>\n",
              "      <td>H</td>\n",
              "      <td>2</td>\n",
              "      <td>0</td>\n",
              "      <td>H</td>\n",
              "      <td>False</td>\n",
              "    </tr>\n",
              "    <tr>\n",
              "      <th>1792</th>\n",
              "      <td>1999-2000</td>\n",
              "      <td>7/11/1999</td>\n",
              "      <td>Sociedad</td>\n",
              "      <td>Valladolid</td>\n",
              "      <td>3</td>\n",
              "      <td>0</td>\n",
              "      <td>H</td>\n",
              "      <td>2</td>\n",
              "      <td>0</td>\n",
              "      <td>H</td>\n",
              "      <td>False</td>\n",
              "    </tr>\n",
              "    <tr>\n",
              "      <th>8815</th>\n",
              "      <td>2017-18</td>\n",
              "      <td>31/03/18</td>\n",
              "      <td>Girona</td>\n",
              "      <td>Levante</td>\n",
              "      <td>1</td>\n",
              "      <td>1</td>\n",
              "      <td>D</td>\n",
              "      <td>0</td>\n",
              "      <td>0</td>\n",
              "      <td>D</td>\n",
              "      <td>False</td>\n",
              "    </tr>\n",
              "    <tr>\n",
              "      <th>8598</th>\n",
              "      <td>2017-18</td>\n",
              "      <td>14/10/17</td>\n",
              "      <td>Getafe</td>\n",
              "      <td>Real Madrid</td>\n",
              "      <td>1</td>\n",
              "      <td>2</td>\n",
              "      <td>A</td>\n",
              "      <td>0</td>\n",
              "      <td>1</td>\n",
              "      <td>A</td>\n",
              "      <td>False</td>\n",
              "    </tr>\n",
              "  </tbody>\n",
              "</table>\n",
              "</div>"
            ],
            "text/plain": [
              "         Season        Date  HomeTeam     AwayTeam  ...  HTHG  HTAG HTR  Top5Budget\n",
              "7826    2015-16   3/10/2015   Granada    La Coruna  ...     0     1   A       False\n",
              "1703  1999-2000  29/08/1999  Zaragoza       Oviedo  ...     2     0   H       False\n",
              "1792  1999-2000   7/11/1999  Sociedad   Valladolid  ...     2     0   H       False\n",
              "8815    2017-18    31/03/18    Girona      Levante  ...     0     0   D       False\n",
              "8598    2017-18    14/10/17    Getafe  Real Madrid  ...     0     1   A       False\n",
              "\n",
              "[5 rows x 11 columns]"
            ]
          },
          "metadata": {
            "tags": []
          }
        },
        {
          "output_type": "execute_result",
          "data": {
            "text/plain": [
              "<matplotlib.legend.Legend at 0x7f5730b16790>"
            ]
          },
          "metadata": {
            "tags": []
          },
          "execution_count": 12
        },
        {
          "output_type": "display_data",
          "data": {
            "image/png": "[encoded data removed]",
            "text/plain": [
              "<Figure size 1600x480 with 1 Axes>"
            ]
          },
          "metadata": {
            "tags": [],
            "needs_background": "light"
          }
        }
      ]
    },
    {
      "cell_type": "code",
      "metadata": {
        "colab": {
          "base_uri": "https://localhost:8080/"
        },
        "id": "r1gsSgun5Lpx",
        "outputId": "36723f58-9c06-4a2e-e832-01325a9e8c8c"
      },
      "source": [
        "# Verificació: verifiquem que les proporcions de cada grup NO es mantenen\n",
        "\n",
        "print(f'Proporcions de cada grup a la població:')\n",
        "print(df.groupby('Top5Budget').size()/N)\n",
        "\n",
        "print(f'\\nProporcions de cada grup a la mostra:')\n",
        "print(df_dss.groupby('Top5Budget').size() / sum(n_top5budget.values()))\n",
        "\n",
        "print(f'\\nTamany de mostra per cada grup:')\n",
        "print(df_dss.groupby('Top5Budget').size())\n"
      ],
      "execution_count": 13,
      "outputs": [
        {
          "output_type": "stream",
          "text": [
            "Proporcions de cada grup a la població:\n",
            "Top5Budget\n",
            "False    0.762003\n",
            "True     0.237997\n",
            "dtype: float64\n",
            "\n",
            "Proporcions de cada grup a la mostra:\n",
            "Top5Budget\n",
            "False    0.5\n",
            "True     0.5\n",
            "dtype: float64\n",
            "\n",
            "Tamany de mostra per cada grup:\n",
            "Top5Budget\n",
            "False    200\n",
            "True     200\n",
            "dtype: int64\n"
          ],
          "name": "stdout"
        }
      ]
    },
    {
      "cell_type": "markdown",
      "metadata": {
        "id": "PqwVqysj4yBi"
      },
      "source": [
        "#### SMOTE (Synthetic Minority Oversampling Technique)"
      ]
    },
    {
      "cell_type": "markdown",
      "metadata": {
        "id": "hbtR5L9ASxXw"
      },
      "source": [
        "SMOTE és una tècnica que prové de l'àmbit del Machine Learning que permet generar mostres de forma artificial a partir de les dades existents. És útil per exemple en ML quan volem entrenar un model de classificació i el dataset està molt desbalancejat (i.e. hi ha una classe de la qual disposem de molt poques mostres). En canvi, al generar dades sintètiques aqueta tècnica no sería adequada per fer un estudi estadístic d'un dataset (e.g. fer inferències sobre la població)."
      ]
    },
    {
      "cell_type": "code",
      "metadata": {
        "colab": {
          "base_uri": "https://localhost:8080/"
        },
        "id": "oqCIlQSaohZa",
        "outputId": "17371510-dfe5-4bff-b694-d6a7c0d77925"
      },
      "source": [
        "!pip install imbalanced-learn"
      ],
      "execution_count": 14,
      "outputs": [
        {
          "output_type": "stream",
          "text": [
            "Requirement already satisfied: imbalanced-learn in /usr/local/lib/python3.7/dist-packages (0.4.3)\n",
            "Requirement already satisfied: numpy>=1.8.2 in /usr/local/lib/python3.7/dist-packages (from imbalanced-learn) (1.19.5)\n",
            "Requirement already satisfied: scipy>=0.13.3 in /usr/local/lib/python3.7/dist-packages (from imbalanced-learn) (1.4.1)\n",
            "Requirement already satisfied: scikit-learn>=0.20 in /usr/local/lib/python3.7/dist-packages (from imbalanced-learn) (0.22.2.post1)\n",
            "Requirement already satisfied: joblib>=0.11 in /usr/local/lib/python3.7/dist-packages (from scikit-learn>=0.20->imbalanced-learn) (1.0.1)\n"
          ],
          "name": "stdout"
        }
      ]
    },
    {
      "cell_type": "code",
      "metadata": {
        "id": "Dsy_6cTHrkIe"
      },
      "source": [
        "# SMOTE només es pot fer servir amb variables numèriques\n",
        "# Utilitzem la variant SMOTE-NC que sí permet variables categòriques (tot i que \n",
        "# requereix tenir alguna variable continua)\n",
        "\n",
        "df_smote = df.copy()\n",
        "\n",
        "# Convertim els strings a categòriques\n",
        "#df_smote[['Season', 'HomeTeam', 'AwayTeam', 'FTR', 'HTR']] = df[['Season', 'HomeTeam', 'AwayTeam', 'FTR', 'HTR']].astype('category')\n",
        "\n",
        "# Eliminem la columna Date\n",
        "df_smote.drop(columns=['Date'], inplace=True)\n",
        "\n",
        "# Eliminem les files que contenen NaN\n",
        "df_smote.dropna(axis=0,how='any', inplace=True)\n",
        "\n",
        "# Guardem els noms de les columnes ja que al utilitzar SMOTE\n",
        "# ens retorna un np.array i es perden els noms i tipus de les columnes\n",
        "col_names = df_smote.columns\n"
      ],
      "execution_count": 15,
      "outputs": []
    },
    {
      "cell_type": "code",
      "metadata": {
        "id": "at2fUf0xbeit",
        "colab": {
          "base_uri": "https://localhost:8080/"
        },
        "outputId": "d53c620a-68bd-4775-9404-e30465b8cde4"
      },
      "source": [
        "# SMOTE (Synthetic Minority Oversampling Technique)\n",
        "from imblearn.over_sampling import SMOTENC\n",
        "\n",
        "# Separem la columna \"Top5Budget\" de la resta\n",
        "X_df = df_smote.iloc[:,:-1]\n",
        "y_df = df_smote.iloc[:,-1]\n",
        "\n",
        "# Apliquem SMOTE-NC\n",
        "smotenc = SMOTENC(random_state=42, \n",
        "                  categorical_features=[0,1,2,5,8],\n",
        "                  sampling_strategy='minority')\n",
        "\n",
        "X_sm, y_sm = smotenc.fit_resample(X_df, y_df)\n",
        "\n",
        "# Convertim els arrays obtinguts de nou en un panda DataFrame\n",
        "df_smote = pd.DataFrame(np.concatenate((X_sm,y_sm.reshape(-1,1)), axis=1),\n",
        "                        columns=col_names)\n",
        "\n",
        "df_smote.info()"
      ],
      "execution_count": 16,
      "outputs": [
        {
          "output_type": "stream",
          "text": [
            "/usr/local/lib/python3.7/dist-packages/sklearn/externals/six.py:31: FutureWarning: The module is deprecated in version 0.21 and will be removed in version 0.23 since we've dropped support for Python 2.7. Please rely on the official version of six (https://pypi.org/project/six/).\n",
            "  \"(https://pypi.org/project/six/).\", FutureWarning)\n",
            "/usr/local/lib/python3.7/dist-packages/sklearn/utils/deprecation.py:144: FutureWarning: The sklearn.neighbors.base module is  deprecated in version 0.22 and will be removed in version 0.24. The corresponding classes / functions should instead be imported from sklearn.neighbors. Anything that cannot be imported from sklearn.neighbors is now part of the private API.\n",
            "  warnings.warn(message, FutureWarning)\n",
            "/usr/local/lib/python3.7/dist-packages/sklearn/utils/deprecation.py:87: FutureWarning: Function safe_indexing is deprecated; safe_indexing is deprecated in version 0.22 and will be removed in version 0.24.\n",
            "  warnings.warn(msg, category=FutureWarning)\n",
            "/usr/local/lib/python3.7/dist-packages/sklearn/utils/deprecation.py:87: FutureWarning: Function safe_indexing is deprecated; safe_indexing is deprecated in version 0.22 and will be removed in version 0.24.\n",
            "  warnings.warn(msg, category=FutureWarning)\n"
          ],
          "name": "stderr"
        },
        {
          "output_type": "stream",
          "text": [
            "<class 'pandas.core.frame.DataFrame'>\n",
            "RangeIndex: 14724 entries, 0 to 14723\n",
            "Data columns (total 10 columns):\n",
            " #   Column      Non-Null Count  Dtype \n",
            "---  ------      --------------  ----- \n",
            " 0   Season      14724 non-null  object\n",
            " 1   HomeTeam    14724 non-null  object\n",
            " 2   AwayTeam    14724 non-null  object\n",
            " 3   FTHG        14724 non-null  object\n",
            " 4   FTAG        14724 non-null  object\n",
            " 5   FTR         14724 non-null  object\n",
            " 6   HTHG        14724 non-null  object\n",
            " 7   HTAG        14724 non-null  object\n",
            " 8   HTR         14724 non-null  object\n",
            " 9   Top5Budget  14724 non-null  object\n",
            "dtypes: object(10)\n",
            "memory usage: 1.1+ MB\n"
          ],
          "name": "stdout"
        }
      ]
    },
    {
      "cell_type": "code",
      "metadata": {
        "colab": {
          "base_uri": "https://localhost:8080/"
        },
        "id": "-hxoAgGHxWLf",
        "outputId": "c5bc1076-d1a5-4a48-aba1-8dcb220f356d"
      },
      "source": [
        "# Per defecte tots els tipus del DataFrame són tipus object\n",
        "# Podem reconvertir als tipus originals PERÒ tenint en compte que alguns tipus han canviat\n",
        "# Per exemple el nombre de gols (FTAG, FTHG, etc) normalment serien sempre enters (int64)\n",
        "# PERÒ les dades creades sintèticament poden contenir valors reals float64 (e.g. 1.63 gols)\n",
        "\n",
        "new_dtypes = {'Season': str,\n",
        "              'HomeTeam': str,\n",
        "              'AwayTeam': str,\n",
        "              'FTAG': 'float64',\n",
        "              'FTHG': 'float64',\n",
        "              'FTR': 'category',\n",
        "              'HTAG': 'float64',\n",
        "              'HTHG': 'float64',\n",
        "              'HTR': 'category',\n",
        "              'Top5Budget': 'bool'\n",
        "              }\n",
        "\n",
        "df_smote = df_smote.astype(new_dtypes)\n",
        "df_smote.info()"
      ],
      "execution_count": 17,
      "outputs": [
        {
          "output_type": "stream",
          "text": [
            "<class 'pandas.core.frame.DataFrame'>\n",
            "RangeIndex: 14724 entries, 0 to 14723\n",
            "Data columns (total 10 columns):\n",
            " #   Column      Non-Null Count  Dtype   \n",
            "---  ------      --------------  -----   \n",
            " 0   Season      14724 non-null  object  \n",
            " 1   HomeTeam    14724 non-null  object  \n",
            " 2   AwayTeam    14724 non-null  object  \n",
            " 3   FTHG        14724 non-null  float64 \n",
            " 4   FTAG        14724 non-null  float64 \n",
            " 5   FTR         14724 non-null  category\n",
            " 6   HTHG        14724 non-null  float64 \n",
            " 7   HTAG        14724 non-null  float64 \n",
            " 8   HTR         14724 non-null  category\n",
            " 9   Top5Budget  14724 non-null  bool    \n",
            "dtypes: bool(1), category(2), float64(4), object(3)\n",
            "memory usage: 848.7+ KB\n"
          ],
          "name": "stdout"
        }
      ]
    },
    {
      "cell_type": "code",
      "metadata": {
        "colab": {
          "base_uri": "https://localhost:8080/"
        },
        "id": "hQ_Lz7XIZB-F",
        "outputId": "1b00c478-7d6b-4da4-bc5c-437f9ba396db"
      },
      "source": [
        "# Verificació: verifiquem que les proporcions de cada grup NO es mantenen\n",
        "\n",
        "print(f'Nombre de mostres de cada grup al dataset original:')\n",
        "print(df.groupby('Top5Budget').size())\n",
        "\n",
        "print(f'\\nNombre de mostres de cada grup al nou dataset:')\n",
        "print(df_smote.groupby('Top5Budget').size())\n"
      ],
      "execution_count": 18,
      "outputs": [
        {
          "output_type": "stream",
          "text": [
            "Nombre de mostres de cada grup al dataset original:\n",
            "Top5Budget\n",
            "False    7364\n",
            "True     2300\n",
            "dtype: int64\n",
            "\n",
            "Nombre de mostres de cada grup al nou dataset:\n",
            "Top5Budget\n",
            "False    7362\n",
            "True     7362\n",
            "dtype: int64\n"
          ],
          "name": "stdout"
        }
      ]
    },
    {
      "cell_type": "code",
      "metadata": {
        "colab": {
          "base_uri": "https://localhost:8080/",
          "height": 471
        },
        "id": "3uzWSKyaygbv",
        "outputId": "889b167c-f053-4c7c-be8e-dca5472acb43"
      },
      "source": [
        "# Si dibuixem per exemple el nombre de gols FTAG vs FTAG, veiem que l'algoritme SMOTE \n",
        "# ha generat valors no-enters per la classe monitoritaria, com era d'esperar\n",
        "sns.relplot(x=\"FTHG\", y=\"FTAG\", hue=\"Top5Budget\", alpha=.3, palette=\"muted\",\n",
        "            height=6, data=df_smote);\n",
        "plt.title('FTAG vs FTHG after applying SMOTE-NC oversampling');            "
      ],
      "execution_count": 19,
      "outputs": [
        {
          "output_type": "display_data",
          "data": {
            "image/png": "[encoded data removed]",
            "text/plain": [
              "<Figure size 498.875x432 with 1 Axes>"
            ]
          },
          "metadata": {
            "tags": [],
            "needs_background": "light"
          }
        }
      ]
    },
    {
      "cell_type": "markdown",
      "metadata": {
        "id": "NTbzB4QSbGtY"
      },
      "source": [
        "## Nivell 3\n",
        "### Exercici 3\n",
        "Continua amb el conjunt de dades de tema esportiu i genera una mostra utilitzant el mètode Reservoir sampling."
      ]
    },
    {
      "cell_type": "markdown",
      "metadata": {
        "id": "olxAArzu4VK9"
      },
      "source": [
        "Es tracta d'un mètode que permet mostrejar un nombre fix d'elements d'una font (població) de tamany desconegut amb probabilitats uniformes. Existèixen diferentes implementacions del mètode Reservoir sampling, el més intuïtiu (i també el menys eficient) és l'anomenat Algoritme R."
      ]
    },
    {
      "cell_type": "code",
      "metadata": {
        "id": "cxt5A4wube5L",
        "colab": {
          "base_uri": "https://localhost:8080/",
          "height": 495
        },
        "outputId": "697d1940-6b99-43fd-ccd4-4cb9f71fab5e"
      },
      "source": [
        "# Reservoir sampling (Algoritme R)\n",
        "\n",
        "reservoir = [] # El tamany del reservoir (i de la mostra final) serà 'n'\n",
        "\n",
        "# El stream en aquest cas seria la seqüència de files (o de números de files) del nostre dataframe\n",
        "stream = range(len(df)) \n",
        "\n",
        "for i in stream: \n",
        "\n",
        "    # Omplim el reservori amb les n primeres mostres del stream\n",
        "    if i+1<= n:\n",
        "        reservoir.append(i)\n",
        "    else:\n",
        "        probability = n/(i+1)\n",
        "        if random.random() < probability:\n",
        "            # Seleccionem l'item del stream i eliminem un dels n items previament seleccionats\n",
        "             reservoir[random.choice(range(0,n))] = i\n",
        "\n",
        "df_rs1 = df.iloc[reservoir,:]\n",
        "\n",
        "# Resultat:\n",
        "display(df_rs1.head())\n",
        "\n",
        "plt.figure(figsize=(20, 6), dpi=80)\n",
        "plt.vlines(df_rs1.index.to_list(), 0, 1, color='red' )\n",
        "plt.xlim(0, len(df));\n",
        "plt.title('Items picked from the DataFrame using Reservoir sampling (in red)')\n",
        "plt.xlabel('Items (rows)');\n",
        "plt.yticks([]);"
      ],
      "execution_count": 21,
      "outputs": [
        {
          "output_type": "display_data",
          "data": {
            "text/html": [
              "<div>\n",
              "<style scoped>\n",
              "    .dataframe tbody tr th:only-of-type {\n",
              "        vertical-align: middle;\n",
              "    }\n",
              "\n",
              "    .dataframe tbody tr th {\n",
              "        vertical-align: top;\n",
              "    }\n",
              "\n",
              "    .dataframe thead th {\n",
              "        text-align: right;\n",
              "    }\n",
              "</style>\n",
              "<table border=\"1\" class=\"dataframe\">\n",
              "  <thead>\n",
              "    <tr style=\"text-align: right;\">\n",
              "      <th></th>\n",
              "      <th>Season</th>\n",
              "      <th>Date</th>\n",
              "      <th>HomeTeam</th>\n",
              "      <th>AwayTeam</th>\n",
              "      <th>FTHG</th>\n",
              "      <th>FTAG</th>\n",
              "      <th>FTR</th>\n",
              "      <th>HTHG</th>\n",
              "      <th>HTAG</th>\n",
              "      <th>HTR</th>\n",
              "      <th>Top5Budget</th>\n",
              "    </tr>\n",
              "  </thead>\n",
              "  <tbody>\n",
              "    <tr>\n",
              "      <th>5355</th>\n",
              "      <td>2008-09</td>\n",
              "      <td>7/3/2009</td>\n",
              "      <td>Real Madrid</td>\n",
              "      <td>Ath Madrid</td>\n",
              "      <td>1</td>\n",
              "      <td>1</td>\n",
              "      <td>D</td>\n",
              "      <td>0</td>\n",
              "      <td>1</td>\n",
              "      <td>A</td>\n",
              "      <td>True</td>\n",
              "    </tr>\n",
              "    <tr>\n",
              "      <th>1953</th>\n",
              "      <td>1999-2000</td>\n",
              "      <td>5/3/2000</td>\n",
              "      <td>Vallecano</td>\n",
              "      <td>Alaves</td>\n",
              "      <td>0</td>\n",
              "      <td>1</td>\n",
              "      <td>A</td>\n",
              "      <td>0</td>\n",
              "      <td>0</td>\n",
              "      <td>D</td>\n",
              "      <td>False</td>\n",
              "    </tr>\n",
              "    <tr>\n",
              "      <th>4523</th>\n",
              "      <td>2006-07</td>\n",
              "      <td>20/01/07</td>\n",
              "      <td>Ath Madrid</td>\n",
              "      <td>Osasuna</td>\n",
              "      <td>1</td>\n",
              "      <td>0</td>\n",
              "      <td>H</td>\n",
              "      <td>0</td>\n",
              "      <td>0</td>\n",
              "      <td>D</td>\n",
              "      <td>True</td>\n",
              "    </tr>\n",
              "    <tr>\n",
              "      <th>4221</th>\n",
              "      <td>2005-06</td>\n",
              "      <td>5/3/2006</td>\n",
              "      <td>Santander</td>\n",
              "      <td>Mallorca</td>\n",
              "      <td>0</td>\n",
              "      <td>0</td>\n",
              "      <td>D</td>\n",
              "      <td>0</td>\n",
              "      <td>0</td>\n",
              "      <td>D</td>\n",
              "      <td>False</td>\n",
              "    </tr>\n",
              "    <tr>\n",
              "      <th>5245</th>\n",
              "      <td>2008-09</td>\n",
              "      <td>13/12/08</td>\n",
              "      <td>Valencia</td>\n",
              "      <td>Espanol</td>\n",
              "      <td>2</td>\n",
              "      <td>1</td>\n",
              "      <td>H</td>\n",
              "      <td>0</td>\n",
              "      <td>1</td>\n",
              "      <td>A</td>\n",
              "      <td>True</td>\n",
              "    </tr>\n",
              "  </tbody>\n",
              "</table>\n",
              "</div>"
            ],
            "text/plain": [
              "         Season      Date     HomeTeam    AwayTeam  ...  HTHG  HTAG HTR  Top5Budget\n",
              "5355    2008-09  7/3/2009  Real Madrid  Ath Madrid  ...     0     1   A        True\n",
              "1953  1999-2000  5/3/2000    Vallecano      Alaves  ...     0     0   D       False\n",
              "4523    2006-07  20/01/07   Ath Madrid     Osasuna  ...     0     0   D        True\n",
              "4221    2005-06  5/3/2006    Santander    Mallorca  ...     0     0   D       False\n",
              "5245    2008-09  13/12/08     Valencia     Espanol  ...     0     1   A        True\n",
              "\n",
              "[5 rows x 11 columns]"
            ]
          },
          "metadata": {
            "tags": []
          }
        },
        {
          "output_type": "display_data",
          "data": {
            "image/png": "[encoded data removed]",
            "text/plain": [
              "<Figure size 1600x480 with 1 Axes>"
            ]
          },
          "metadata": {
            "tags": [],
            "needs_background": "light"
          }
        }
      ]
    }
  ]
}